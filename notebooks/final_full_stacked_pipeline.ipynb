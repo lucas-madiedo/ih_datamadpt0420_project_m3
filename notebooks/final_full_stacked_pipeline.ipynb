{
 "cells": [
  {
   "cell_type": "markdown",
   "metadata": {
    "id": "omI1Zer1kc46"
   },
   "source": [
    "# IMPORTING AND CONFIGURATION"
   ]
  },
  {
   "cell_type": "code",
   "execution_count": null,
   "metadata": {
    "colab": {
     "base_uri": "https://localhost:8080/",
     "height": 34
    },
    "id": "FG4Mfxr5mYLd",
    "outputId": "ed1e3d3e-9116-4b0f-ad71-18a32ee825f9"
   },
   "outputs": [
    {
     "name": "stdout",
     "output_type": "stream",
     "text": [
      "Drive already mounted at /content/drive; to attempt to forcibly remount, call drive.mount(\"/content/drive\", force_remount=True).\n"
     ]
    }
   ],
   "source": [
    "from google.colab import drive\n",
    "drive.mount('/content/drive')"
   ]
  },
  {
   "cell_type": "code",
   "execution_count": null,
   "metadata": {
    "id": "6P0bCGy-TVmK"
   },
   "outputs": [],
   "source": [
    "# USO BÁSICO\n",
    "import pandas as pd\n",
    "import numpy as np\n",
    "from numpy import mean\n",
    "from numpy import std\n",
    "\n",
    "#PREPROCESAMIENTO\n",
    "from sklearn.base import BaseEstimator, TransformerMixin\n",
    "from sklearn.pipeline import Pipeline\n",
    "from sklearn.preprocessing import OneHotEncoder, StandardScaler\n",
    "from sklearn.impute import SimpleImputer\n",
    "from sklearn.compose import ColumnTransformer\n",
    "\n",
    "#DIVIDIR MODELO\n",
    "from sklearn.model_selection import train_test_split\n",
    "\n",
    "#MODELOS\n",
    "from sklearn.linear_model import LassoCV,RidgeCV,LinearRegression\n",
    "from sklearn.ensemble import RandomForestRegressor, StackingRegressor, GradientBoostingRegressor\n",
    "from sklearn.pipeline import make_pipeline\n",
    "from sklearn.model_selection import RepeatedKFold\n",
    "from sklearn.neighbors import KNeighborsRegressor\n",
    "from sklearn.tree import DecisionTreeRegressor\n",
    "from sklearn.svm import SVR\n",
    "import xgboost as xgb\n",
    "import lightgbm as lgb\n",
    "\n",
    "#Análisis\n",
    "from sklearn.metrics import mean_squared_error\n",
    "from sklearn.model_selection import cross_val_score\n",
    "\n",
    "#exportModel\n",
    "import pickle\n"
   ]
  },
  {
   "cell_type": "markdown",
   "metadata": {
    "id": "EOjtqtkVVwUx"
   },
   "source": [
    "# GENERATE DATASET"
   ]
  },
  {
   "cell_type": "markdown",
   "metadata": {
    "id": "jUB2ok-NVn75"
   },
   "source": [
    "## Declaring Functions"
   ]
  },
  {
   "cell_type": "code",
   "execution_count": null,
   "metadata": {
    "id": "eOgLcvF2TlPS"
   },
   "outputs": [],
   "source": [
    "def encoding_categorical_feats (df):\n",
    "  color_categorization = {'J':1,'I':2,'H':3,'G':4,\n",
    "                          'F':5,'E':6,'D':7}\n",
    "\n",
    "  clarity_categorization = {'I1':1,'SI2':2,'SI1':3,'VS2':4,\n",
    "                            'VS1':5,'VVS2':6,'VVS1':7,'IF':8}\n",
    "\n",
    "  cut_categorization = {'Fair':1,'Good':2,'Very Good':3,\n",
    "                        'Premium':4,'Ideal':5}\n",
    "\n",
    "  df['color']=df['color'].map(color_categorization)\n",
    "  df['clarity']=df['clarity'].map(clarity_categorization)\n",
    "  df['cut']=df['cut'].map(cut_categorization)\n",
    "\n",
    "  return df\n",
    "\n",
    "\n",
    "def errase_outliers (df):\n",
    "  #diamonds.describe(percentiles=[0.999])\n",
    "  #borrar valores por encima del percentil 99.9%\n",
    "\n",
    "  df = df[df['carat']<2.68]\n",
    "  df = df[df['depth']<68.800]\n",
    "  df = df[df['table']<67]\n",
    "  df = df[df['x']<8.9]\n",
    "  df = df[df['y']<8.885460]\n",
    "  df = df[df['z']<5.54]\n",
    "\n",
    "  return df"
   ]
  },
  {
   "cell_type": "markdown",
   "metadata": {
    "id": "fY3JGBuTkxn1"
   },
   "source": [
    "## CREATING AND CLEANING DATASET"
   ]
  },
  {
   "cell_type": "code",
   "execution_count": null,
   "metadata": {
    "id": "MXUvgd71T_Cq"
   },
   "outputs": [],
   "source": [
    "diamonds = pd.read_csv('/content/drive/My Drive/00_IRONHACK/diamonds_comp/data/diamonds_train.csv');"
   ]
  },
  {
   "cell_type": "code",
   "execution_count": null,
   "metadata": {
    "colab": {
     "base_uri": "https://localhost:8080/",
     "height": 476
    },
    "id": "EKoZ8G5eU0X7",
    "outputId": "e2eb40b7-2c77-4b29-a390-bd66d2434dc6"
   },
   "outputs": [
    {
     "name": "stdout",
     "output_type": "stream",
     "text": [
      "Initial df: (40455, 10)\n"
     ]
    },
    {
     "data": {
      "text/html": [
       "<div>\n",
       "<style scoped>\n",
       "    .dataframe tbody tr th:only-of-type {\n",
       "        vertical-align: middle;\n",
       "    }\n",
       "\n",
       "    .dataframe tbody tr th {\n",
       "        vertical-align: top;\n",
       "    }\n",
       "\n",
       "    .dataframe thead th {\n",
       "        text-align: right;\n",
       "    }\n",
       "</style>\n",
       "<table border=\"1\" class=\"dataframe\">\n",
       "  <thead>\n",
       "    <tr style=\"text-align: right;\">\n",
       "      <th></th>\n",
       "      <th>carat</th>\n",
       "      <th>cut</th>\n",
       "      <th>color</th>\n",
       "      <th>clarity</th>\n",
       "      <th>depth</th>\n",
       "      <th>table</th>\n",
       "      <th>price</th>\n",
       "      <th>x</th>\n",
       "      <th>y</th>\n",
       "      <th>z</th>\n",
       "    </tr>\n",
       "  </thead>\n",
       "  <tbody>\n",
       "    <tr>\n",
       "      <th>0</th>\n",
       "      <td>1.21</td>\n",
       "      <td>Premium</td>\n",
       "      <td>J</td>\n",
       "      <td>VS2</td>\n",
       "      <td>62.4</td>\n",
       "      <td>58.0</td>\n",
       "      <td>4268</td>\n",
       "      <td>6.83</td>\n",
       "      <td>6.79</td>\n",
       "      <td>4.25</td>\n",
       "    </tr>\n",
       "    <tr>\n",
       "      <th>1</th>\n",
       "      <td>0.32</td>\n",
       "      <td>Very Good</td>\n",
       "      <td>H</td>\n",
       "      <td>VS2</td>\n",
       "      <td>63.0</td>\n",
       "      <td>57.0</td>\n",
       "      <td>505</td>\n",
       "      <td>4.35</td>\n",
       "      <td>4.38</td>\n",
       "      <td>2.75</td>\n",
       "    </tr>\n",
       "    <tr>\n",
       "      <th>2</th>\n",
       "      <td>0.71</td>\n",
       "      <td>Fair</td>\n",
       "      <td>G</td>\n",
       "      <td>VS1</td>\n",
       "      <td>65.5</td>\n",
       "      <td>55.0</td>\n",
       "      <td>2686</td>\n",
       "      <td>5.62</td>\n",
       "      <td>5.53</td>\n",
       "      <td>3.65</td>\n",
       "    </tr>\n",
       "    <tr>\n",
       "      <th>3</th>\n",
       "      <td>0.41</td>\n",
       "      <td>Good</td>\n",
       "      <td>D</td>\n",
       "      <td>SI1</td>\n",
       "      <td>63.8</td>\n",
       "      <td>56.0</td>\n",
       "      <td>738</td>\n",
       "      <td>4.68</td>\n",
       "      <td>4.72</td>\n",
       "      <td>3.00</td>\n",
       "    </tr>\n",
       "    <tr>\n",
       "      <th>4</th>\n",
       "      <td>1.02</td>\n",
       "      <td>Ideal</td>\n",
       "      <td>G</td>\n",
       "      <td>SI1</td>\n",
       "      <td>60.5</td>\n",
       "      <td>59.0</td>\n",
       "      <td>4882</td>\n",
       "      <td>6.55</td>\n",
       "      <td>6.51</td>\n",
       "      <td>3.95</td>\n",
       "    </tr>\n",
       "  </tbody>\n",
       "</table>\n",
       "</div>"
      ],
      "text/plain": [
       "   carat        cut color clarity  depth  table  price     x     y     z\n",
       "0   1.21    Premium     J     VS2   62.4   58.0   4268  6.83  6.79  4.25\n",
       "1   0.32  Very Good     H     VS2   63.0   57.0    505  4.35  4.38  2.75\n",
       "2   0.71       Fair     G     VS1   65.5   55.0   2686  5.62  5.53  3.65\n",
       "3   0.41       Good     D     SI1   63.8   56.0    738  4.68  4.72  3.00\n",
       "4   1.02      Ideal     G     SI1   60.5   59.0   4882  6.55  6.51  3.95"
      ]
     },
     "metadata": {
      "tags": []
     },
     "output_type": "display_data"
    },
    {
     "name": "stdout",
     "output_type": "stream",
     "text": [
      "\n",
      "\n",
      "Post cleaning df: (40291, 10)\n"
     ]
    },
    {
     "data": {
      "text/html": [
       "<div>\n",
       "<style scoped>\n",
       "    .dataframe tbody tr th:only-of-type {\n",
       "        vertical-align: middle;\n",
       "    }\n",
       "\n",
       "    .dataframe tbody tr th {\n",
       "        vertical-align: top;\n",
       "    }\n",
       "\n",
       "    .dataframe thead th {\n",
       "        text-align: right;\n",
       "    }\n",
       "</style>\n",
       "<table border=\"1\" class=\"dataframe\">\n",
       "  <thead>\n",
       "    <tr style=\"text-align: right;\">\n",
       "      <th></th>\n",
       "      <th>carat</th>\n",
       "      <th>cut</th>\n",
       "      <th>color</th>\n",
       "      <th>clarity</th>\n",
       "      <th>depth</th>\n",
       "      <th>table</th>\n",
       "      <th>price</th>\n",
       "      <th>x</th>\n",
       "      <th>y</th>\n",
       "      <th>z</th>\n",
       "    </tr>\n",
       "  </thead>\n",
       "  <tbody>\n",
       "    <tr>\n",
       "      <th>0</th>\n",
       "      <td>1.21</td>\n",
       "      <td>4</td>\n",
       "      <td>1</td>\n",
       "      <td>4</td>\n",
       "      <td>62.4</td>\n",
       "      <td>58.0</td>\n",
       "      <td>4268</td>\n",
       "      <td>6.83</td>\n",
       "      <td>6.79</td>\n",
       "      <td>4.25</td>\n",
       "    </tr>\n",
       "    <tr>\n",
       "      <th>1</th>\n",
       "      <td>0.32</td>\n",
       "      <td>3</td>\n",
       "      <td>3</td>\n",
       "      <td>4</td>\n",
       "      <td>63.0</td>\n",
       "      <td>57.0</td>\n",
       "      <td>505</td>\n",
       "      <td>4.35</td>\n",
       "      <td>4.38</td>\n",
       "      <td>2.75</td>\n",
       "    </tr>\n",
       "    <tr>\n",
       "      <th>2</th>\n",
       "      <td>0.71</td>\n",
       "      <td>1</td>\n",
       "      <td>4</td>\n",
       "      <td>5</td>\n",
       "      <td>65.5</td>\n",
       "      <td>55.0</td>\n",
       "      <td>2686</td>\n",
       "      <td>5.62</td>\n",
       "      <td>5.53</td>\n",
       "      <td>3.65</td>\n",
       "    </tr>\n",
       "    <tr>\n",
       "      <th>3</th>\n",
       "      <td>0.41</td>\n",
       "      <td>2</td>\n",
       "      <td>7</td>\n",
       "      <td>3</td>\n",
       "      <td>63.8</td>\n",
       "      <td>56.0</td>\n",
       "      <td>738</td>\n",
       "      <td>4.68</td>\n",
       "      <td>4.72</td>\n",
       "      <td>3.00</td>\n",
       "    </tr>\n",
       "    <tr>\n",
       "      <th>4</th>\n",
       "      <td>1.02</td>\n",
       "      <td>5</td>\n",
       "      <td>4</td>\n",
       "      <td>3</td>\n",
       "      <td>60.5</td>\n",
       "      <td>59.0</td>\n",
       "      <td>4882</td>\n",
       "      <td>6.55</td>\n",
       "      <td>6.51</td>\n",
       "      <td>3.95</td>\n",
       "    </tr>\n",
       "  </tbody>\n",
       "</table>\n",
       "</div>"
      ],
      "text/plain": [
       "   carat  cut  color  clarity  depth  table  price     x     y     z\n",
       "0   1.21    4      1        4   62.4   58.0   4268  6.83  6.79  4.25\n",
       "1   0.32    3      3        4   63.0   57.0    505  4.35  4.38  2.75\n",
       "2   0.71    1      4        5   65.5   55.0   2686  5.62  5.53  3.65\n",
       "3   0.41    2      7        3   63.8   56.0    738  4.68  4.72  3.00\n",
       "4   1.02    5      4        3   60.5   59.0   4882  6.55  6.51  3.95"
      ]
     },
     "metadata": {
      "tags": []
     },
     "output_type": "display_data"
    },
    {
     "name": "stdout",
     "output_type": "stream",
     "text": [
      "164 outliers deleted\n"
     ]
    }
   ],
   "source": [
    "print(f'Initial df: {diamonds.shape}')\n",
    "initial_rows = diamonds.shape[0]\n",
    "display(diamonds.head())\n",
    "diamonds = errase_outliers(diamonds)\n",
    "diamonds = encoding_categorical_feats (diamonds)\n",
    "print(f'\\n\\nPost cleaning df: {diamonds.shape}')\n",
    "display(diamonds.head())\n",
    "print(f'{initial_rows - diamonds.shape[0]} outliers deleted')"
   ]
  },
  {
   "cell_type": "code",
   "execution_count": null,
   "metadata": {
    "id": "Qix5nKP9XKpj"
   },
   "outputs": [],
   "source": [
    "working_features = ['carat','cut', 'color', 'clarity', 'depth', 'table', 'x', 'y', 'z']\n",
    "target = 'price'"
   ]
  },
  {
   "cell_type": "code",
   "execution_count": null,
   "metadata": {
    "colab": {
     "base_uri": "https://localhost:8080/",
     "height": 68
    },
    "id": "msS6R7wDXrpZ",
    "outputId": "f1a164c9-6732-4e4a-ad56-4866429540ba"
   },
   "outputs": [
    {
     "name": "stdout",
     "output_type": "stream",
     "text": [
      "TRAIN(29008, 10)\n",
      "TEST: (8059, 10)\n",
      "EVAL: (3224, 10)\n"
     ]
    }
   ],
   "source": [
    "diamonds_train, diamonds_test = train_test_split(diamonds,test_size=0.2)\n",
    "diamonds_train, diamonds_eval = train_test_split(diamonds_train,test_size=0.1)\n",
    "print(f'TRAIN{diamonds_train.shape}')\n",
    "print(f'TEST: {diamonds_test.shape}')\n",
    "print(f'EVAL: {diamonds_eval.shape}')"
   ]
  },
  {
   "cell_type": "markdown",
   "metadata": {
    "id": "tNxrLlLaX__1"
   },
   "source": [
    "## PREPROCESOR"
   ]
  },
  {
   "cell_type": "code",
   "execution_count": null,
   "metadata": {
    "id": "ZL5JclBDXg7z"
   },
   "outputs": [],
   "source": [
    "class CustomNumericalTransformer (BaseEstimator,TransformerMixin):\n",
    "  def _init_(self):\n",
    "      pass\n",
    "  \n",
    "  def fit (self, X, y = None):\n",
    "      return self\n",
    "  \n",
    "  def transform (self, X, y = None):\n",
    "\n",
    "      #dimension\n",
    "      X.loc[:,'dimensions'] = X['x'] * X['y'] * X['z']\n",
    "      #drop redundant columns\n",
    "      X.drop(['x','y','z'],axis = 1)\n",
    "\n",
    "      #carat_size\n",
    "      X.loc[:,'carat_size'] =  X['carat']/X['dimensions']\n",
    "      X.drop('dimensions',axis=1) #revisar si es mejor dejarlo\n",
    "        \n",
    "      #Converting any infinity values in the dataset to Nan\n",
    "      X = X.replace ([np.inf,-np.inf],np.nan)\n",
    "      \n",
    "      return X.values\n",
    "\n",
    "\n",
    "\n",
    "numeric_feats_pipeline = Pipeline(steps=[('custom_changes',CustomNumericalTransformer()),\n",
    "                                         ('imputer',SimpleImputer(strategy='median')),\n",
    "                                         ('standar_scaler',StandardScaler())])\n",
    "\n",
    "preprocesor = ColumnTransformer(transformers=[('numeric_pipeline',numeric_feats_pipeline,working_features)])"
   ]
  },
  {
   "cell_type": "markdown",
   "metadata": {
    "id": "vu2gEzqRjXSO"
   },
   "source": [
    "# MODEL DEFINITION"
   ]
  },
  {
   "cell_type": "code",
   "execution_count": null,
   "metadata": {
    "colab": {
     "base_uri": "https://localhost:8080/",
     "height": 35
    },
    "id": "CNc_1UHMf-iL",
    "outputId": "b26e1e7a-3b1b-47d5-dc2a-9bc16a370dcf"
   },
   "outputs": [
    {
     "data": {
      "application/vnd.google.colaboratory.intrinsic+json": {
       "type": "string"
      },
      "text/plain": [
       "''"
      ]
     },
     "execution_count": 46,
     "metadata": {
      "tags": []
     },
     "output_type": "execute_result"
    }
   ],
   "source": [
    "\n",
    "#XGBOOST_______________________________________________________________________\n",
    "xgbboost_pipeline = make_pipeline(preprocesor,\n",
    "                                  xgb.XGBRegressor())\n",
    "    # n_estimators=1024\n",
    "\n",
    "#Gradient Boost Regressor______________________________________________________\n",
    "gradient_pipeline = make_pipeline(preprocesor,\n",
    "                    GradientBoostingRegressor())\n",
    "\n",
    "#RandomForest__________________________________________________________________\n",
    "\n",
    "randomforest_pipeline = make_pipeline(preprocesor,\n",
    "                            RandomForestRegressor())\n",
    "\n",
    "#Lightgbm______________________________________________________________________\n",
    "\n",
    "lightbm_pipeline = make_pipeline(preprocesor,\n",
    "                            lgb.LGBMRegressor())\n",
    "\n",
    "\n",
    "\n",
    "'''\n",
    "#svr\n",
    "svr_pipeline = make_pipeline(preprocesor,\n",
    "                             SVR())\n",
    "'''\n",
    "\n",
    "'''\n",
    "#KNeighborsRegressor\n",
    "KNeighborsRegressor_pipeline = make_pipeline(preprocesor,\n",
    "                                             KNeighborsRegressor())\n",
    "'''\n",
    "\n",
    "'''\n",
    "#lasso\n",
    "lasso_pipeline = make_pipeline(preprocesor,\n",
    "                               LassoCV())\n",
    "'''\n",
    ";"
   ]
  },
  {
   "cell_type": "code",
   "execution_count": null,
   "metadata": {
    "id": "_Rqk9UbhY19e"
   },
   "outputs": [],
   "source": [
    "# get a list of models to evaluate\n",
    "def get_models():\n",
    "\tmodels = dict()\n",
    "\tmodels['xgboost'] = xgbboost_pipeline\n",
    "\tmodels['gradientboost'] = gradient_pipeline\n",
    "\tmodels['random_forest'] = randomforest_pipeline\n",
    "\tmodels['lightgbm'] = lightbm_pipeline\n",
    "\n",
    "\tmodels['stacking'] = get_stacking()\n",
    "\t\n",
    "\treturn models\n",
    "\n",
    "# evaluate a given model using cross-validation\n",
    "def evaluate_model(model, X, y):\n",
    "\tcv = RepeatedKFold(n_splits=10, n_repeats=3, random_state=1)\n",
    "\tscores = cross_val_score(model, X, y, scoring='neg_root_mean_squared_error', \n",
    "\t                         cv=cv, n_jobs=-1, error_score='raise')\n",
    "\treturn scores\n",
    "\n",
    "def get_stacking():\n",
    "\t# define the base models\n",
    "\tlevel0 = list()\n",
    "\tlevel0.append(('xgboost', xgbboost_pipeline))\n",
    "\tlevel0.append(('gradientboost', gradient_pipeline))\n",
    "\tlevel0.append(('random_forest', randomforest_pipeline))\n",
    "\tlevel0.append(('lightgbm', lightbm_pipeline))\n",
    " \n",
    "  # define meta learner model\n",
    "\tlevel1 = LinearRegression() #cambiar por RidgeCV()\n",
    "\n",
    "\t# define the stacking ensemble\n",
    "\tmodel = StackingRegressor(estimators=level0, final_estimator=level1, cv=5)\n",
    "\treturn model\n",
    "\n"
   ]
  },
  {
   "cell_type": "markdown",
   "metadata": {
    "id": "-WYu3XZfY0GI"
   },
   "source": [
    "# MODELS COMBINED TEST"
   ]
  },
  {
   "cell_type": "code",
   "execution_count": null,
   "metadata": {
    "colab": {
     "base_uri": "https://localhost:8080/",
     "height": 156
    },
    "id": "WKh8l9JBaHGI",
    "outputId": "07552344-4d24-4bfc-cf56-a7b7f7f51e4a"
   },
   "outputs": [
    {
     "name": "stdout",
     "output_type": "stream",
     "text": [
      "xgboost: 534.2868333112846\n",
      "gradientboost: 536.0819186560931\n"
     ]
    },
    {
     "name": "stderr",
     "output_type": "stream",
     "text": [
      "/usr/local/lib/python3.6/dist-packages/joblib/externals/loky/process_executor.py:691: UserWarning: A worker stopped while some jobs were given to the executor. This can be caused by a too short worker timeout or by a memory leak.\n",
      "  \"timeout or by a memory leak.\", UserWarning\n"
     ]
    },
    {
     "name": "stdout",
     "output_type": "stream",
     "text": [
      "random_forest: 538.3710807710152\n",
      "lightgbm: 526.6707196674872\n",
      "stacking: 508.63764985582037\n"
     ]
    }
   ],
   "source": [
    "# get the models to evaluate\n",
    "models = get_models()\n",
    "\n",
    "# evaluate the models and store results\n",
    "results, names = list(), list()\n",
    "\n",
    "for name, model in models.items():\n",
    "  scores = evaluate_model(model, diamonds[working_features], diamonds[target])\n",
    "  results.append(scores)\n",
    "  names.append(name)\n",
    "  print(f'{name}: {-np.mean(scores)}')\n"
   ]
  },
  {
   "cell_type": "markdown",
   "metadata": {
    "id": "K0iFcnIw1EaG"
   },
   "source": []
  },
  {
   "cell_type": "code",
   "execution_count": null,
   "metadata": {
    "colab": {
     "base_uri": "https://localhost:8080/",
     "height": 266
    },
    "id": "4KoCMXRuBcFg",
    "outputId": "fdf4f180-9231-4981-82c9-66c81f351954"
   },
   "outputs": [
    {
     "data": {
      "image/png": "[encoded data removed]",
      "text/plain": [
       "<Figure size 432x288 with 1 Axes>"
      ]
     },
     "metadata": {
      "needs_background": "light",
      "tags": []
     },
     "output_type": "display_data"
    }
   ],
   "source": [
    "# plot model performance for comparison\n",
    "from matplotlib import pyplot\n",
    "pyplot.boxplot(results, labels=names, showmeans=True)\n",
    "pyplot.show()"
   ]
  },
  {
   "cell_type": "markdown",
   "metadata": {
    "id": "McELuYZ8i9rv"
   },
   "source": [
    "# STACKED MODEL TEST"
   ]
  },
  {
   "cell_type": "code",
   "execution_count": null,
   "metadata": {
    "id": "tyGnzNFLHTsz"
   },
   "outputs": [],
   "source": [
    "base_models = [('xgboost', xgbboost_pipeline),\n",
    "               ('gradientboost', gradient_pipeline),\n",
    "               ('random_forest', randomforest_pipeline),\n",
    "               ('lightgbm', lightbm_pipeline)]\n",
    "\n",
    "upper_model = LinearRegression()     \n",
    "\n",
    "ml_model = StackingRegressor(estimators=base_models, final_estimator=upper_model, cv=5)"
   ]
  },
  {
   "cell_type": "code",
   "execution_count": null,
   "metadata": {
    "colab": {
     "base_uri": "https://localhost:8080/",
     "height": 697
    },
    "id": "dcRk6hHc9Hzt",
    "outputId": "dd591d78-f6fd-4a34-de1c-9681cea6509c"
   },
   "outputs": [
    {
     "name": "stdout",
     "output_type": "stream",
     "text": [
      "[12:09:08] WARNING: /workspace/src/objective/regression_obj.cu:152: reg:linear is now deprecated in favor of reg:squarederror.\n",
      "[12:09:32] WARNING: /workspace/src/objective/regression_obj.cu:152: reg:linear is now deprecated in favor of reg:squarederror.\n",
      "[12:09:34] WARNING: /workspace/src/objective/regression_obj.cu:152: reg:linear is now deprecated in favor of reg:squarederror.\n",
      "[12:09:35] WARNING: /workspace/src/objective/regression_obj.cu:152: reg:linear is now deprecated in favor of reg:squarederror.\n",
      "[12:09:36] WARNING: /workspace/src/objective/regression_obj.cu:152: reg:linear is now deprecated in favor of reg:squarederror.\n",
      "[12:09:37] WARNING: /workspace/src/objective/regression_obj.cu:152: reg:linear is now deprecated in favor of reg:squarederror.\n"
     ]
    },
    {
     "data": {
      "text/plain": [
       "StackingRegressor(cv=5,\n",
       "                  estimators=[('xgboost',\n",
       "                               Pipeline(memory=None,\n",
       "                                        steps=[('columntransformer',\n",
       "                                                ColumnTransformer(n_jobs=None,\n",
       "                                                                  remainder='drop',\n",
       "                                                                  sparse_threshold=0.3,\n",
       "                                                                  transformer_weights=None,\n",
       "                                                                  transformers=[('numeric_pipeline',\n",
       "                                                                                 Pipeline(memory=None,\n",
       "                                                                                          steps=[('custom_changes',\n",
       "                                                                                                  CustomNumericalTransformer()),\n",
       "                                                                                                 ('imputer',\n",
       "                                                                                                  SimpleImputer(add_indicator=False,\n",
       "                                                                                                                copy=Tr...\n",
       "                                                              min_child_weight=0.001,\n",
       "                                                              min_split_gain=0.0,\n",
       "                                                              n_estimators=100,\n",
       "                                                              n_jobs=-1,\n",
       "                                                              num_leaves=31,\n",
       "                                                              objective=None,\n",
       "                                                              random_state=None,\n",
       "                                                              reg_alpha=0.0,\n",
       "                                                              reg_lambda=0.0,\n",
       "                                                              silent=True,\n",
       "                                                              subsample=1.0,\n",
       "                                                              subsample_for_bin=200000,\n",
       "                                                              subsample_freq=0))],\n",
       "                                        verbose=False))],\n",
       "                  final_estimator=LinearRegression(copy_X=True,\n",
       "                                                   fit_intercept=True,\n",
       "                                                   n_jobs=None,\n",
       "                                                   normalize=False),\n",
       "                  n_jobs=None, passthrough=False, verbose=0)"
      ]
     },
     "execution_count": 65,
     "metadata": {
      "tags": []
     },
     "output_type": "execute_result"
    }
   ],
   "source": [
    "#ENTRENAMIENTO DEL MODELO\n",
    "ml_model.fit(diamonds_train[working_features],diamonds_train[target])"
   ]
  },
  {
   "cell_type": "code",
   "execution_count": null,
   "metadata": {
    "colab": {
     "base_uri": "https://localhost:8080/",
     "height": 34
    },
    "id": "E_BihCWkh8oV",
    "outputId": "cab1e4d4-cdc1-4816-db1e-b3e9f6b2ec2a"
   },
   "outputs": [
    {
     "data": {
      "text/plain": [
       "359.64618962779343"
      ]
     },
     "execution_count": 49,
     "metadata": {
      "tags": []
     },
     "output_type": "execute_result"
    }
   ],
   "source": [
    "#Error en train\n",
    "y_train_pred = ml_model.predict(diamonds_train[working_features])\n",
    "y_train_real = diamonds_train[target]\n",
    "mean_squared_error(y_pred=y_train_pred,y_true=y_train_real,squared=False)"
   ]
  },
  {
   "cell_type": "code",
   "execution_count": null,
   "metadata": {
    "colab": {
     "base_uri": "https://localhost:8080/",
     "height": 34
    },
    "id": "51NL2Y3m9RqT",
    "outputId": "a1fd940a-0ed5-4f75-e23a-4e046eeb07d9"
   },
   "outputs": [
    {
     "data": {
      "text/plain": [
       "522.3511042051533"
      ]
     },
     "execution_count": 50,
     "metadata": {
      "tags": []
     },
     "output_type": "execute_result"
    }
   ],
   "source": [
    "#Error en test\n",
    "y_test_pred = ml_model.predict(diamonds_test[working_features])\n",
    "y_test_real = diamonds_test[target]\n",
    "mean_squared_error(y_pred=y_test_pred,y_true=y_test_real,squared=False)"
   ]
  },
  {
   "cell_type": "markdown",
   "metadata": {
    "id": "kMASnNwgj7-U"
   },
   "source": [
    "# TRAINING FINAL MODEL"
   ]
  },
  {
   "cell_type": "code",
   "execution_count": null,
   "metadata": {
    "colab": {
     "base_uri": "https://localhost:8080/",
     "height": 697
    },
    "id": "qkzYM89Kj_6s",
    "outputId": "b9a9e84b-8aa6-4334-c487-4f29cab0dffb"
   },
   "outputs": [
    {
     "name": "stdout",
     "output_type": "stream",
     "text": [
      "[11:56:34] WARNING: /workspace/src/objective/regression_obj.cu:152: reg:linear is now deprecated in favor of reg:squarederror.\n",
      "[11:57:09] WARNING: /workspace/src/objective/regression_obj.cu:152: reg:linear is now deprecated in favor of reg:squarederror.\n",
      "[11:57:10] WARNING: /workspace/src/objective/regression_obj.cu:152: reg:linear is now deprecated in favor of reg:squarederror.\n",
      "[11:57:12] WARNING: /workspace/src/objective/regression_obj.cu:152: reg:linear is now deprecated in favor of reg:squarederror.\n",
      "[11:57:14] WARNING: /workspace/src/objective/regression_obj.cu:152: reg:linear is now deprecated in favor of reg:squarederror.\n",
      "[11:57:16] WARNING: /workspace/src/objective/regression_obj.cu:152: reg:linear is now deprecated in favor of reg:squarederror.\n"
     ]
    },
    {
     "data": {
      "text/plain": [
       "StackingRegressor(cv=5,\n",
       "                  estimators=[('xgboost',\n",
       "                               Pipeline(memory=None,\n",
       "                                        steps=[('columntransformer',\n",
       "                                                ColumnTransformer(n_jobs=None,\n",
       "                                                                  remainder='drop',\n",
       "                                                                  sparse_threshold=0.3,\n",
       "                                                                  transformer_weights=None,\n",
       "                                                                  transformers=[('numeric_pipeline',\n",
       "                                                                                 Pipeline(memory=None,\n",
       "                                                                                          steps=[('custom_changes',\n",
       "                                                                                                  CustomNumericalTransformer()),\n",
       "                                                                                                 ('imputer',\n",
       "                                                                                                  SimpleImputer(add_indicator=False,\n",
       "                                                                                                                copy=Tr...\n",
       "                                                              min_child_weight=0.001,\n",
       "                                                              min_split_gain=0.0,\n",
       "                                                              n_estimators=100,\n",
       "                                                              n_jobs=-1,\n",
       "                                                              num_leaves=31,\n",
       "                                                              objective=None,\n",
       "                                                              random_state=None,\n",
       "                                                              reg_alpha=0.0,\n",
       "                                                              reg_lambda=0.0,\n",
       "                                                              silent=True,\n",
       "                                                              subsample=1.0,\n",
       "                                                              subsample_for_bin=200000,\n",
       "                                                              subsample_freq=0))],\n",
       "                                        verbose=False))],\n",
       "                  final_estimator=LinearRegression(copy_X=True,\n",
       "                                                   fit_intercept=True,\n",
       "                                                   n_jobs=None,\n",
       "                                                   normalize=False),\n",
       "                  n_jobs=None, passthrough=False, verbose=0)"
      ]
     },
     "execution_count": 51,
     "metadata": {
      "tags": []
     },
     "output_type": "execute_result"
    }
   ],
   "source": [
    "ml_model.fit(diamonds[working_features],diamonds[target])"
   ]
  },
  {
   "cell_type": "markdown",
   "metadata": {
    "id": "lBhDPYldkJ_F"
   },
   "source": [
    "# SAVING TRAINED MODEL"
   ]
  },
  {
   "cell_type": "code",
   "execution_count": null,
   "metadata": {
    "id": "IHqDTKOJkJD5"
   },
   "outputs": [],
   "source": [
    "filename = 'stacking_model_v2_plain.sav'\n",
    "pickle.dump(ml_model, open(filename, 'wb'))"
   ]
  },
  {
   "cell_type": "markdown",
   "metadata": {
    "id": "Yp5_87objhFT"
   },
   "source": [
    "#SUBMITTING"
   ]
  },
  {
   "cell_type": "code",
   "execution_count": null,
   "metadata": {
    "id": "eVZ0e2od9j_6"
   },
   "outputs": [],
   "source": [
    "diamonds_submit = pd.read_csv('/content/drive/My Drive/00_IRONHACK/diamonds_comp/data/diamonds_predict.csv')"
   ]
  },
  {
   "cell_type": "code",
   "execution_count": null,
   "metadata": {
    "id": "-utz_SFO9_wW"
   },
   "outputs": [],
   "source": [
    "diamonds_submit = encoding_categorical_feats(diamonds_submit)"
   ]
  },
  {
   "cell_type": "code",
   "execution_count": null,
   "metadata": {
    "id": "8xMWOcy3jmYp"
   },
   "outputs": [],
   "source": [
    "results = ml_model.predict(diamonds_submit[working_features])\n",
    "submission_df = pd.DataFrame({'id': diamonds_submit['id'], 'price': results})\n"
   ]
  },
  {
   "cell_type": "code",
   "execution_count": null,
   "metadata": {
    "colab": {
     "base_uri": "https://localhost:8080/",
     "height": 297
    },
    "id": "eJ98UIdO8owa",
    "outputId": "7e2a9db0-3083-4996-ae27-53c2112697db"
   },
   "outputs": [
    {
     "data": {
      "text/html": [
       "<div>\n",
       "<style scoped>\n",
       "    .dataframe tbody tr th:only-of-type {\n",
       "        vertical-align: middle;\n",
       "    }\n",
       "\n",
       "    .dataframe tbody tr th {\n",
       "        vertical-align: top;\n",
       "    }\n",
       "\n",
       "    .dataframe thead th {\n",
       "        text-align: right;\n",
       "    }\n",
       "</style>\n",
       "<table border=\"1\" class=\"dataframe\">\n",
       "  <thead>\n",
       "    <tr style=\"text-align: right;\">\n",
       "      <th></th>\n",
       "      <th>id</th>\n",
       "      <th>price</th>\n",
       "    </tr>\n",
       "  </thead>\n",
       "  <tbody>\n",
       "    <tr>\n",
       "      <th>count</th>\n",
       "      <td>13485.000000</td>\n",
       "      <td>13485.000000</td>\n",
       "    </tr>\n",
       "    <tr>\n",
       "      <th>mean</th>\n",
       "      <td>6742.000000</td>\n",
       "      <td>3945.402305</td>\n",
       "    </tr>\n",
       "    <tr>\n",
       "      <th>std</th>\n",
       "      <td>3892.928525</td>\n",
       "      <td>3948.917158</td>\n",
       "    </tr>\n",
       "    <tr>\n",
       "      <th>min</th>\n",
       "      <td>0.000000</td>\n",
       "      <td>369.840162</td>\n",
       "    </tr>\n",
       "    <tr>\n",
       "      <th>25%</th>\n",
       "      <td>3371.000000</td>\n",
       "      <td>925.017746</td>\n",
       "    </tr>\n",
       "    <tr>\n",
       "      <th>50%</th>\n",
       "      <td>6742.000000</td>\n",
       "      <td>2463.677268</td>\n",
       "    </tr>\n",
       "    <tr>\n",
       "      <th>75%</th>\n",
       "      <td>10113.000000</td>\n",
       "      <td>5310.064460</td>\n",
       "    </tr>\n",
       "    <tr>\n",
       "      <th>max</th>\n",
       "      <td>13484.000000</td>\n",
       "      <td>17961.720181</td>\n",
       "    </tr>\n",
       "  </tbody>\n",
       "</table>\n",
       "</div>"
      ],
      "text/plain": [
       "                 id         price\n",
       "count  13485.000000  13485.000000\n",
       "mean    6742.000000   3945.402305\n",
       "std     3892.928525   3948.917158\n",
       "min        0.000000    369.840162\n",
       "25%     3371.000000    925.017746\n",
       "50%     6742.000000   2463.677268\n",
       "75%    10113.000000   5310.064460\n",
       "max    13484.000000  17961.720181"
      ]
     },
     "execution_count": 60,
     "metadata": {
      "tags": []
     },
     "output_type": "execute_result"
    }
   ],
   "source": [
    "submission_df.describe()"
   ]
  },
  {
   "cell_type": "code",
   "execution_count": null,
   "metadata": {
    "colab": {
     "base_uri": "https://localhost:8080/",
     "height": 297
    },
    "id": "RTQSJpkP24gu",
    "outputId": "92d3f010-fd76-4369-b63b-0636a589c279"
   },
   "outputs": [
    {
     "data": {
      "text/html": [
       "<div>\n",
       "<style scoped>\n",
       "    .dataframe tbody tr th:only-of-type {\n",
       "        vertical-align: middle;\n",
       "    }\n",
       "\n",
       "    .dataframe tbody tr th {\n",
       "        vertical-align: top;\n",
       "    }\n",
       "\n",
       "    .dataframe thead th {\n",
       "        text-align: right;\n",
       "    }\n",
       "</style>\n",
       "<table border=\"1\" class=\"dataframe\">\n",
       "  <thead>\n",
       "    <tr style=\"text-align: right;\">\n",
       "      <th></th>\n",
       "      <th>id</th>\n",
       "      <th>price</th>\n",
       "    </tr>\n",
       "  </thead>\n",
       "  <tbody>\n",
       "    <tr>\n",
       "      <th>count</th>\n",
       "      <td>13485.000000</td>\n",
       "      <td>13485.000000</td>\n",
       "    </tr>\n",
       "    <tr>\n",
       "      <th>mean</th>\n",
       "      <td>6742.000000</td>\n",
       "      <td>3948.559661</td>\n",
       "    </tr>\n",
       "    <tr>\n",
       "      <th>std</th>\n",
       "      <td>3892.928525</td>\n",
       "      <td>3953.775776</td>\n",
       "    </tr>\n",
       "    <tr>\n",
       "      <th>min</th>\n",
       "      <td>0.000000</td>\n",
       "      <td>276.509833</td>\n",
       "    </tr>\n",
       "    <tr>\n",
       "      <th>25%</th>\n",
       "      <td>3371.000000</td>\n",
       "      <td>942.953655</td>\n",
       "    </tr>\n",
       "    <tr>\n",
       "      <th>50%</th>\n",
       "      <td>6742.000000</td>\n",
       "      <td>2446.898229</td>\n",
       "    </tr>\n",
       "    <tr>\n",
       "      <th>75%</th>\n",
       "      <td>10113.000000</td>\n",
       "      <td>5327.123715</td>\n",
       "    </tr>\n",
       "    <tr>\n",
       "      <th>max</th>\n",
       "      <td>13484.000000</td>\n",
       "      <td>18827.989485</td>\n",
       "    </tr>\n",
       "  </tbody>\n",
       "</table>\n",
       "</div>"
      ],
      "text/plain": [
       "                 id         price\n",
       "count  13485.000000  13485.000000\n",
       "mean    6742.000000   3948.559661\n",
       "std     3892.928525   3953.775776\n",
       "min        0.000000    276.509833\n",
       "25%     3371.000000    942.953655\n",
       "50%     6742.000000   2446.898229\n",
       "75%    10113.000000   5327.123715\n",
       "max    13484.000000  18827.989485"
      ]
     },
     "execution_count": 44,
     "metadata": {
      "tags": []
     },
     "output_type": "execute_result"
    }
   ],
   "source": [
    "submission_df.describe()"
   ]
  },
  {
   "cell_type": "code",
   "execution_count": null,
   "metadata": {
    "id": "rgzn7nfU21Ss"
   },
   "outputs": [],
   "source": [
    "submission_df.to_csv('pipeline_model_v2.csv', index=False)"
   ]
  }
 ],
 "metadata": {
  "accelerator": "GPU",
  "colab": {
   "name": "01_full_stacked_pipeline.ipynb",
   "provenance": [],
   "toc_visible": true
  },
  "kernelspec": {
   "display_name": "Python 3",
   "language": "python",
   "name": "python3"
  },
  "language_info": {
   "codemirror_mode": {
    "name": "ipython",
    "version": 3
   },
   "file_extension": ".py",
   "mimetype": "text/x-python",
   "name": "python",
   "nbconvert_exporter": "python",
   "pygments_lexer": "ipython3",
   "version": "3.7.7"
  }
 },
 "nbformat": 4,
 "nbformat_minor": 4
}
