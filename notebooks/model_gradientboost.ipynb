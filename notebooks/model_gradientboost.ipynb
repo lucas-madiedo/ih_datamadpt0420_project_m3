{
  "nbformat": 4,
  "nbformat_minor": 0,
  "metadata": {
    "colab": {
      "name": "model_gradientboost_XXXX.ipynb",
      "provenance": []
    },
    "kernelspec": {
      "name": "python3",
      "display_name": "Python 3"
    },
    "accelerator": "GPU"
  },
  "cells": [
    {
      "cell_type": "code",
      "metadata": {
        "id": "7xQ9HyRYmKfR",
        "outputId": "af6a29b5-32c2-4eb4-d5c7-c16b847a5879",
        "colab": {
          "base_uri": "https://localhost:8080/",
          "height": 34
        }
      },
      "source": [
        "from google.colab import drive\n",
        "drive.mount('/content/drive')"
      ],
      "execution_count": null,
      "outputs": [
        {
          "output_type": "stream",
          "text": [
            "Mounted at /content/drive\n"
          ],
          "name": "stdout"
        }
      ]
    },
    {
      "cell_type": "markdown",
      "metadata": {
        "id": "s5eSly3Kl7rO"
      },
      "source": [
        "# IMPORTING AND CONFIG"
      ]
    },
    {
      "cell_type": "code",
      "metadata": {
        "id": "6P0bCGy-TVmK"
      },
      "source": [
        "# USO BÁSICO\n",
        "import pandas as pd\n",
        "import numpy as np\n",
        "\n",
        "#PREPROCESAMIENTO\n",
        "from sklearn.base import BaseEstimator, TransformerMixin\n",
        "from sklearn.pipeline import Pipeline\n",
        "from sklearn.preprocessing import OneHotEncoder, StandardScaler\n",
        "from sklearn.impute import SimpleImputer\n",
        "from sklearn.compose import ColumnTransformer\n",
        "\n",
        "#DIVIDIR MODELO\n",
        "from sklearn.model_selection import train_test_split\n",
        "\n",
        "#MODELOS\n",
        "from sklearn.linear_model import LassoCV,RidgeCV\n",
        "from sklearn.ensemble import RandomForestRegressor, StackingRegressor, GradientBoostingRegressor\n",
        "from sklearn.pipeline import make_pipeline\n",
        "import xgboost as xgb\n",
        "\n",
        "#ANALISIS\n",
        "from sklearn.metrics import mean_squared_error\n",
        "from sklearn.model_selection import cross_val_score\n",
        "from sklearn.model_selection import RandomizedSearchCV,GridSearchCV\n",
        "\n",
        "#EXPORTMODEL\n",
        "import pickle"
      ],
      "execution_count": null,
      "outputs": []
    },
    {
      "cell_type": "markdown",
      "metadata": {
        "id": "I4npb_fFmBrq"
      },
      "source": [
        "# GENERATE DATASET"
      ]
    },
    {
      "cell_type": "markdown",
      "metadata": {
        "id": "jUB2ok-NVn75"
      },
      "source": [
        "## Declaring Functions"
      ]
    },
    {
      "cell_type": "code",
      "metadata": {
        "id": "eOgLcvF2TlPS"
      },
      "source": [
        "def encoding_categorical_feats (df):\n",
        "  color_categorization = {'J':1,'I':2,'H':3,'G':4,\n",
        "                          'F':5,'E':6,'D':7}\n",
        "\n",
        "  clarity_categorization = {'I1':1,'SI2':2,'SI1':3,'VS2':4,\n",
        "                            'VS1':5,'VVS2':6,'VVS1':7,'IF':8}\n",
        "\n",
        "  cut_categorization = {'Fair':1,'Good':2,'Very Good':3,\n",
        "                        'Premium':4,'Ideal':5}\n",
        "\n",
        "  df['color']=df['color'].map(color_categorization)\n",
        "  df['clarity']=df['clarity'].map(clarity_categorization)\n",
        "  df['cut']=df['cut'].map(cut_categorization)\n",
        "\n",
        "  return df\n",
        "\n",
        "\n",
        "def errase_outliers (df):\n",
        "  #diamonds.describe(percentiles=[0.999])\n",
        "  #borrar valores por encima del percentil 99.9%\n",
        "\n",
        "  df = df[df['carat']<2.68]\n",
        "  df = df[df['depth']<68.800]\n",
        "  df = df[df['table']<67]\n",
        "  df = df[df['x']<8.9]\n",
        "  df = df[df['y']<8.885460]\n",
        "  df = df[df['z']<5.54]\n",
        "\n",
        "  return df"
      ],
      "execution_count": null,
      "outputs": []
    },
    {
      "cell_type": "markdown",
      "metadata": {
        "id": "EOjtqtkVVwUx"
      },
      "source": [
        "## CREATING AND CLEANING DATA SET"
      ]
    },
    {
      "cell_type": "code",
      "metadata": {
        "id": "MXUvgd71T_Cq"
      },
      "source": [
        "diamonds = pd.read_csv('/content/drive/My Drive/00_IRONHACK/diamonds_comp/data/diamonds_train.csv');"
      ],
      "execution_count": null,
      "outputs": []
    },
    {
      "cell_type": "code",
      "metadata": {
        "id": "EKoZ8G5eU0X7",
        "outputId": "3c32a6a3-af17-413d-e396-df92e74e9149",
        "colab": {
          "base_uri": "https://localhost:8080/"
        }
      },
      "source": [
        "print(f'Initial df: {diamonds.shape}')\n",
        "initial_rows = diamonds.shape[0]\n",
        "display(diamonds.head())\n",
        "diamonds = errase_outliers(diamonds)\n",
        "diamonds = encoding_categorical_feats (diamonds)\n",
        "print(f'\\n\\nPost cleaning df: {diamonds.shape}')\n",
        "display(diamonds.head())\n",
        "print(f'{initial_rows - diamonds.shape[0]} outliers deleted')"
      ],
      "execution_count": null,
      "outputs": [
        {
          "output_type": "stream",
          "text": [
            "Initial df: (40455, 10)\n"
          ],
          "name": "stdout"
        },
        {
          "output_type": "display_data",
          "data": {
            "text/html": [
              "<div>\n",
              "<style scoped>\n",
              "    .dataframe tbody tr th:only-of-type {\n",
              "        vertical-align: middle;\n",
              "    }\n",
              "\n",
              "    .dataframe tbody tr th {\n",
              "        vertical-align: top;\n",
              "    }\n",
              "\n",
              "    .dataframe thead th {\n",
              "        text-align: right;\n",
              "    }\n",
              "</style>\n",
              "<table border=\"1\" class=\"dataframe\">\n",
              "  <thead>\n",
              "    <tr style=\"text-align: right;\">\n",
              "      <th></th>\n",
              "      <th>carat</th>\n",
              "      <th>cut</th>\n",
              "      <th>color</th>\n",
              "      <th>clarity</th>\n",
              "      <th>depth</th>\n",
              "      <th>table</th>\n",
              "      <th>price</th>\n",
              "      <th>x</th>\n",
              "      <th>y</th>\n",
              "      <th>z</th>\n",
              "    </tr>\n",
              "  </thead>\n",
              "  <tbody>\n",
              "    <tr>\n",
              "      <th>0</th>\n",
              "      <td>1.21</td>\n",
              "      <td>Premium</td>\n",
              "      <td>J</td>\n",
              "      <td>VS2</td>\n",
              "      <td>62.4</td>\n",
              "      <td>58.0</td>\n",
              "      <td>4268</td>\n",
              "      <td>6.83</td>\n",
              "      <td>6.79</td>\n",
              "      <td>4.25</td>\n",
              "    </tr>\n",
              "    <tr>\n",
              "      <th>1</th>\n",
              "      <td>0.32</td>\n",
              "      <td>Very Good</td>\n",
              "      <td>H</td>\n",
              "      <td>VS2</td>\n",
              "      <td>63.0</td>\n",
              "      <td>57.0</td>\n",
              "      <td>505</td>\n",
              "      <td>4.35</td>\n",
              "      <td>4.38</td>\n",
              "      <td>2.75</td>\n",
              "    </tr>\n",
              "    <tr>\n",
              "      <th>2</th>\n",
              "      <td>0.71</td>\n",
              "      <td>Fair</td>\n",
              "      <td>G</td>\n",
              "      <td>VS1</td>\n",
              "      <td>65.5</td>\n",
              "      <td>55.0</td>\n",
              "      <td>2686</td>\n",
              "      <td>5.62</td>\n",
              "      <td>5.53</td>\n",
              "      <td>3.65</td>\n",
              "    </tr>\n",
              "    <tr>\n",
              "      <th>3</th>\n",
              "      <td>0.41</td>\n",
              "      <td>Good</td>\n",
              "      <td>D</td>\n",
              "      <td>SI1</td>\n",
              "      <td>63.8</td>\n",
              "      <td>56.0</td>\n",
              "      <td>738</td>\n",
              "      <td>4.68</td>\n",
              "      <td>4.72</td>\n",
              "      <td>3.00</td>\n",
              "    </tr>\n",
              "    <tr>\n",
              "      <th>4</th>\n",
              "      <td>1.02</td>\n",
              "      <td>Ideal</td>\n",
              "      <td>G</td>\n",
              "      <td>SI1</td>\n",
              "      <td>60.5</td>\n",
              "      <td>59.0</td>\n",
              "      <td>4882</td>\n",
              "      <td>6.55</td>\n",
              "      <td>6.51</td>\n",
              "      <td>3.95</td>\n",
              "    </tr>\n",
              "  </tbody>\n",
              "</table>\n",
              "</div>"
            ],
            "text/plain": [
              "   carat        cut color clarity  depth  table  price     x     y     z\n",
              "0   1.21    Premium     J     VS2   62.4   58.0   4268  6.83  6.79  4.25\n",
              "1   0.32  Very Good     H     VS2   63.0   57.0    505  4.35  4.38  2.75\n",
              "2   0.71       Fair     G     VS1   65.5   55.0   2686  5.62  5.53  3.65\n",
              "3   0.41       Good     D     SI1   63.8   56.0    738  4.68  4.72  3.00\n",
              "4   1.02      Ideal     G     SI1   60.5   59.0   4882  6.55  6.51  3.95"
            ]
          },
          "metadata": {
            "tags": []
          }
        },
        {
          "output_type": "stream",
          "text": [
            "\n",
            "\n",
            "Post cleaning df: (40291, 10)\n"
          ],
          "name": "stdout"
        },
        {
          "output_type": "display_data",
          "data": {
            "text/html": [
              "<div>\n",
              "<style scoped>\n",
              "    .dataframe tbody tr th:only-of-type {\n",
              "        vertical-align: middle;\n",
              "    }\n",
              "\n",
              "    .dataframe tbody tr th {\n",
              "        vertical-align: top;\n",
              "    }\n",
              "\n",
              "    .dataframe thead th {\n",
              "        text-align: right;\n",
              "    }\n",
              "</style>\n",
              "<table border=\"1\" class=\"dataframe\">\n",
              "  <thead>\n",
              "    <tr style=\"text-align: right;\">\n",
              "      <th></th>\n",
              "      <th>carat</th>\n",
              "      <th>cut</th>\n",
              "      <th>color</th>\n",
              "      <th>clarity</th>\n",
              "      <th>depth</th>\n",
              "      <th>table</th>\n",
              "      <th>price</th>\n",
              "      <th>x</th>\n",
              "      <th>y</th>\n",
              "      <th>z</th>\n",
              "    </tr>\n",
              "  </thead>\n",
              "  <tbody>\n",
              "    <tr>\n",
              "      <th>0</th>\n",
              "      <td>1.21</td>\n",
              "      <td>4</td>\n",
              "      <td>1</td>\n",
              "      <td>4</td>\n",
              "      <td>62.4</td>\n",
              "      <td>58.0</td>\n",
              "      <td>4268</td>\n",
              "      <td>6.83</td>\n",
              "      <td>6.79</td>\n",
              "      <td>4.25</td>\n",
              "    </tr>\n",
              "    <tr>\n",
              "      <th>1</th>\n",
              "      <td>0.32</td>\n",
              "      <td>3</td>\n",
              "      <td>3</td>\n",
              "      <td>4</td>\n",
              "      <td>63.0</td>\n",
              "      <td>57.0</td>\n",
              "      <td>505</td>\n",
              "      <td>4.35</td>\n",
              "      <td>4.38</td>\n",
              "      <td>2.75</td>\n",
              "    </tr>\n",
              "    <tr>\n",
              "      <th>2</th>\n",
              "      <td>0.71</td>\n",
              "      <td>1</td>\n",
              "      <td>4</td>\n",
              "      <td>5</td>\n",
              "      <td>65.5</td>\n",
              "      <td>55.0</td>\n",
              "      <td>2686</td>\n",
              "      <td>5.62</td>\n",
              "      <td>5.53</td>\n",
              "      <td>3.65</td>\n",
              "    </tr>\n",
              "    <tr>\n",
              "      <th>3</th>\n",
              "      <td>0.41</td>\n",
              "      <td>2</td>\n",
              "      <td>7</td>\n",
              "      <td>3</td>\n",
              "      <td>63.8</td>\n",
              "      <td>56.0</td>\n",
              "      <td>738</td>\n",
              "      <td>4.68</td>\n",
              "      <td>4.72</td>\n",
              "      <td>3.00</td>\n",
              "    </tr>\n",
              "    <tr>\n",
              "      <th>4</th>\n",
              "      <td>1.02</td>\n",
              "      <td>5</td>\n",
              "      <td>4</td>\n",
              "      <td>3</td>\n",
              "      <td>60.5</td>\n",
              "      <td>59.0</td>\n",
              "      <td>4882</td>\n",
              "      <td>6.55</td>\n",
              "      <td>6.51</td>\n",
              "      <td>3.95</td>\n",
              "    </tr>\n",
              "  </tbody>\n",
              "</table>\n",
              "</div>"
            ],
            "text/plain": [
              "   carat  cut  color  clarity  depth  table  price     x     y     z\n",
              "0   1.21    4      1        4   62.4   58.0   4268  6.83  6.79  4.25\n",
              "1   0.32    3      3        4   63.0   57.0    505  4.35  4.38  2.75\n",
              "2   0.71    1      4        5   65.5   55.0   2686  5.62  5.53  3.65\n",
              "3   0.41    2      7        3   63.8   56.0    738  4.68  4.72  3.00\n",
              "4   1.02    5      4        3   60.5   59.0   4882  6.55  6.51  3.95"
            ]
          },
          "metadata": {
            "tags": []
          }
        },
        {
          "output_type": "stream",
          "text": [
            "164 outliers deleted\n"
          ],
          "name": "stdout"
        }
      ]
    },
    {
      "cell_type": "code",
      "metadata": {
        "id": "Qix5nKP9XKpj"
      },
      "source": [
        "working_features = ['carat','cut', 'color', 'clarity', 'depth', 'table', 'x', 'y', 'z']\n",
        "target = 'price'"
      ],
      "execution_count": null,
      "outputs": []
    },
    {
      "cell_type": "code",
      "metadata": {
        "id": "msS6R7wDXrpZ",
        "outputId": "165998e3-ca75-47e2-c074-39351aa2325c",
        "colab": {
          "base_uri": "https://localhost:8080/"
        }
      },
      "source": [
        "diamonds_train, diamonds_test = train_test_split(diamonds,test_size=0.2)\n",
        "print(f'TRAIN{diamonds_train.shape}')\n",
        "print(f'TEST: {diamonds_test.shape}')"
      ],
      "execution_count": null,
      "outputs": [
        {
          "output_type": "stream",
          "text": [
            "TRAIN(32232, 10)\n",
            "TEST: (8059, 10)\n"
          ],
          "name": "stdout"
        }
      ]
    },
    {
      "cell_type": "markdown",
      "metadata": {
        "id": "tNxrLlLaX__1"
      },
      "source": [
        "## PREPROCESOR"
      ]
    },
    {
      "cell_type": "code",
      "metadata": {
        "id": "ZL5JclBDXg7z"
      },
      "source": [
        "class CustomNumericalTransformer (BaseEstimator,TransformerMixin):\n",
        "  def _init_(self):\n",
        "      pass\n",
        "  \n",
        "  def fit (self, X, y = None):\n",
        "      return self\n",
        "  \n",
        "  def transform (self, X, y = None):\n",
        "\n",
        "      #dimension\n",
        "      X.loc[:,'dimensions'] = X['x'] * X['y'] * X['z']\n",
        "      #drop redundant columns\n",
        "      X.drop(['x','y','z'],axis = 1)\n",
        "\n",
        "      #carat_size\n",
        "      X.loc[:,'carat_size'] =  X['carat']/X['dimensions']\n",
        "      X.drop('dimensions',axis=1) #revisar si es mejor dejarlo\n",
        "        \n",
        "      #Converting any infinity values in the dataset to Nan\n",
        "      X = X.replace ([np.inf,-np.inf],np.nan)\n",
        "      \n",
        "      return X.values\n",
        "\n",
        "\n",
        "\n",
        "numeric_feats_pipeline = Pipeline(steps=[('custom_changes',CustomNumericalTransformer()),\n",
        "                                         ('imputer',SimpleImputer(strategy='median')),\n",
        "                                         ('standar_scaler',StandardScaler())])\n",
        "\n",
        "preprocesor = ColumnTransformer(transformers=[('numeric_pipeline',numeric_feats_pipeline,working_features)])"
      ],
      "execution_count": null,
      "outputs": []
    },
    {
      "cell_type": "markdown",
      "metadata": {
        "id": "qrXvnbbuxJSf"
      },
      "source": [
        "# TEST"
      ]
    },
    {
      "cell_type": "code",
      "metadata": {
        "id": "196TweL2xIAV"
      },
      "source": [
        "diamonds_train, diamonds_test = train_test_split(diamonds,test_size=0.2)\n",
        "diamonds_train,diamonds_eval = train_test_split(diamonds_train,test_size=0.1)\n",
        "\n",
        "print(f'TRAIN: {diamonds_train.shape}')\n",
        "print(f'TEST: {diamonds_test.shape}')\n",
        "print(f'EVAL: {diamonds_eval.shape}')\n"
      ],
      "execution_count": null,
      "outputs": []
    },
    {
      "cell_type": "markdown",
      "metadata": {
        "id": "-WYu3XZfY0GI"
      },
      "source": [
        "# MODEL DEFINITION"
      ]
    },
    {
      "cell_type": "code",
      "metadata": {
        "id": "Ge21TRfp5CKK"
      },
      "source": [
        "ml_model = Pipeline(steps=[('preprocesor',preprocesor),\n",
        "                           ('selected_model',GradientBoostingRegressor(n_estimators=2000,max_depth=8))])"
      ],
      "execution_count": null,
      "outputs": []
    },
    {
      "cell_type": "code",
      "metadata": {
        "id": "OMmMbRBlxUa7"
      },
      "source": [
        "ml_model.fit(diamonds_train[working_features],diamonds_train[target])\n"
      ],
      "execution_count": null,
      "outputs": []
    },
    {
      "cell_type": "code",
      "metadata": {
        "id": "sNV1WTw5w9ZJ",
        "outputId": "7408c7fd-025c-48d2-f6d2-b48a73ae0c61",
        "colab": {
          "base_uri": "https://localhost:8080/",
          "height": 34
        }
      },
      "source": [
        "#Error en train\n",
        "y_train_pred = ml_model.predict(diamonds_train[working_features])\n",
        "y_train_real = diamonds_train[target]\n",
        "mean_squared_error(y_pred=y_train_pred,y_true=y_train_real,squared=False)"
      ],
      "execution_count": null,
      "outputs": [
        {
          "output_type": "execute_result",
          "data": {
            "text/plain": [
              "359.9290763276678"
            ]
          },
          "metadata": {
            "tags": []
          },
          "execution_count": 35
        }
      ]
    },
    {
      "cell_type": "code",
      "metadata": {
        "id": "4uO6iFclw9ix",
        "outputId": "c8ceae85-ef60-4631-aa8d-973c9cc7c1b1",
        "colab": {
          "base_uri": "https://localhost:8080/",
          "height": 34
        }
      },
      "source": [
        "#Error en test\n",
        "y_test_pred = ml_model.predict(diamonds_test[working_features])\n",
        "y_test_real = diamonds_test[target]\n",
        "mean_squared_error(y_pred=y_test_pred,y_true=y_test_real,squared=False)"
      ],
      "execution_count": null,
      "outputs": [
        {
          "output_type": "execute_result",
          "data": {
            "text/plain": [
              "577.7541419597225"
            ]
          },
          "metadata": {
            "tags": []
          },
          "execution_count": 36
        }
      ]
    },
    {
      "cell_type": "code",
      "metadata": {
        "id": "nNziG0Aqw-B2"
      },
      "source": [
        ""
      ],
      "execution_count": null,
      "outputs": []
    },
    {
      "cell_type": "code",
      "metadata": {
        "id": "lIlgxTVbw-It"
      },
      "source": [
        ""
      ],
      "execution_count": null,
      "outputs": []
    },
    {
      "cell_type": "code",
      "metadata": {
        "id": "uoNPIzGPw935"
      },
      "source": [
        ""
      ],
      "execution_count": null,
      "outputs": []
    },
    {
      "cell_type": "code",
      "metadata": {
        "id": "TL1f85WSw9ew"
      },
      "source": [
        ""
      ],
      "execution_count": null,
      "outputs": []
    },
    {
      "cell_type": "code",
      "metadata": {
        "id": "LNu3wx7x5gtv"
      },
      "source": [
        "scores = cross_val_score(ml_model,\n",
        "                        diamonds[working_features],\n",
        "                        diamonds[target],\n",
        "                        scoring='neg_root_mean_squared_error',\n",
        "                        cv=5, n_jobs=-1)"
      ],
      "execution_count": null,
      "outputs": []
    },
    {
      "cell_type": "code",
      "metadata": {
        "id": "Utn5CiTC5nRC"
      },
      "source": [
        "print(f'model score: {np.mean(scores)}')"
      ],
      "execution_count": null,
      "outputs": []
    },
    {
      "cell_type": "markdown",
      "metadata": {
        "id": "j2CgJBMX5nyA"
      },
      "source": [
        "_________________________________________"
      ]
    },
    {
      "cell_type": "code",
      "metadata": {
        "id": "SecgOFFC5mtX"
      },
      "source": [
        "ml_model.fit(diamonds[working_features],diamonds[target])"
      ],
      "execution_count": null,
      "outputs": []
    },
    {
      "cell_type": "code",
      "metadata": {
        "id": "IRD-nUoui5RB"
      },
      "source": [
        "param_to_optimize = {\n",
        "    'preprocesor__numeric_transformer__imputer__strategy':['mean','median'],\n",
        "    'regressor_model__n_estimators':[2000],\n",
        "    'regressor_model__max_depth':[8,16],\n",
        "    'regressor_model__random_state':[2,10,42],\n",
        "    'regressor_model__max_features':'auto',\n",
        "    'regressor_model__samples_split':[5,10,20],\n",
        "    'regressor_model__samples_leaf':[15,30]\n",
        "    }"
      ],
      "execution_count": null,
      "outputs": []
    },
    {
      "cell_type": "code",
      "metadata": {
        "id": "wybPVKuQnEfz"
      },
      "source": [
        "grid_search = RandomizedSearchCV(ml_model,\n",
        "                                param_to_optimize,\n",
        "                                cv=5,\n",
        "                                verbose=10,\n",
        "                                scoring='neg_root_mean_squared_error',\n",
        "                                n_jobs = -1,\n",
        "                                n_iter = 32)"
      ],
      "execution_count": null,
      "outputs": []
    }
  ]
}